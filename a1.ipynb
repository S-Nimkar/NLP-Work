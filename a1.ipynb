{
 "cells": [
  {
   "cell_type": "markdown",
   "metadata": {},
   "source": [
    "# NLE Assessed Coursework 1\n",
    "\n",
    "For this assessment, you are expected to complete and submit this notebook file.  When answers require code, you may import and use library functions (unless explicitly told otherwise).  All of your own code should be included in the notebook rather than imported from elsewhere.  Written answers should also be included in the notebook.  You should insert as many extra cells as you want and change the type between code and markdown as appropriate.\n",
    "\n",
    "In order to avoid misconduct, you should not talk about these coursework questions with your peers.  If you are not sure what a question is asking you to do or have any other questions, please ask me or one of the Teaching Assistants.\n",
    "\n",
    "Marking guidelines are provided as a separate document.\n",
    "\n",
    "In order to provide unique datasets for analysis by different students, you must enter your candidate number in the following cell."
   ]
  },
  {
   "cell_type": "code",
   "execution_count": 2,
   "metadata": {},
   "outputs": [],
   "source": [
    "candidateno=167974 #this MUST be updated to your candidate number so that you get a unique data sample\n"
   ]
  },
  {
   "cell_type": "code",
   "execution_count": 3,
   "metadata": {},
   "outputs": [
    {
     "name": "stdout",
     "output_type": "stream",
     "text": [
      "Sussex NLTK root directory is \\\\ad.susx.ac.uk\\ITS\\TeachingResources\\Departments\\Informatics\\LanguageEngineering\\resources\n"
     ]
    }
   ],
   "source": [
    "#preliminary imports\n",
    "import sys\n",
    "sys.path.append(r'\\\\ad.susx.ac.uk\\ITS\\TeachingResources\\Departments\\Informatics\\LanguageEngineering\\resources')\n",
    "sys.path.append(r'/Users/juliewe/Documents/teaching/NLE2018/resources')\n",
    "\n",
    "import re\n",
    "import pandas as pd\n",
    "import matplotlib.pyplot as plt\n",
    "%matplotlib inline\n",
    "from itertools import zip_longest\n",
    "from nltk.tokenize import word_tokenize\n",
    "\n",
    "from sussex_nltk.corpus_readers import AmazonReviewCorpusReader\n",
    "import random\n",
    "from nltk.corpus import stopwords"
   ]
  },
  {
   "cell_type": "markdown",
   "metadata": {},
   "source": [
    "# Question 1: Naive Bayes Classification (25 marks)\n",
    "\n",
    "In this question, you will be considering how a Naive Bayes classifier can be applied to the task of deciding whether sentences are relevant or not relevant to the kitchen domain.\n",
    "\n",
    "The code below will generate for you two small unique sets of sentences, which you should refer to in your answer to this question.   This question will be marked on the quality of your explanations rather than the quality of your code."
   ]
  },
  {
   "cell_type": "code",
   "execution_count": 4,
   "metadata": {},
   "outputs": [
    {
     "name": "stdout",
     "output_type": "stream",
     "text": [
      "Number of training sentences is 7.  Number of testing sentences is 4\n"
     ]
    }
   ],
   "source": [
    "#Do NOT change the code in this cell.\n",
    "\n",
    "topics=[\"book\",\"kitchen\",\"dvd\",\"electronics\"]\n",
    "samplesize=3\n",
    "stop=stopwords.words('english')\n",
    "\n",
    "trainingsentences=[]\n",
    "testsentences=[]\n",
    "cr = AmazonReviewCorpusReader()\n",
    "\n",
    "for topic in topics:\n",
    "    random.seed(candidateno)\n",
    "    if topic == \"kitchen\":\n",
    "        key=\"kitchen\"\n",
    "    else:\n",
    "        key=\"not-kitchen\"\n",
    "    topicsentences=[]\n",
    "    while len(topicsentences)<2:\n",
    "        topicsentences=[({token.lower():True for token in doc if token not in stop and token.isalpha()},key) for doc in cr.category(topic).sample_sents(samplesize=samplesize) if len(doc)>0]\n",
    "    testsentences.append(topicsentences[0])\n",
    "    trainingsentences+=topicsentences[1:]\n",
    "\n",
    "random.shuffle(trainingsentences)\n",
    "random.shuffle(testsentences)\n",
    "print(\"Number of training sentences is {}.  Number of testing sentences is {}\".format(len(trainingsentences),len(testsentences)))\n"
   ]
  },
  {
   "cell_type": "code",
   "execution_count": 5,
   "metadata": {},
   "outputs": [
    {
     "name": "stdout",
     "output_type": "stream",
     "text": [
      "i : not-kitchen\n",
      "loved : not-kitchen\n",
      "sparks : not-kitchen\n",
      "book : not-kitchen\n",
      "the : not-kitchen\n",
      "notebook : not-kitchen\n",
      "added : not-kitchen\n",
      "books : not-kitchen\n",
      "must : not-kitchen\n",
      "read : not-kitchen\n",
      "list : not-kitchen\n",
      "now : not-kitchen\n",
      "old : not-kitchen\n",
      "age : not-kitchen\n",
      "i : not-kitchen\n",
      "pangs : not-kitchen\n",
      "conscience : not-kitchen\n",
      "happily : not-kitchen\n",
      "closed : not-kitchen\n",
      "book : not-kitchen\n",
      "finishing : not-kitchen\n",
      "the : not-kitchen\n",
      "show : not-kitchen\n",
      "really : not-kitchen\n",
      "works : not-kitchen\n",
      "season : not-kitchen\n",
      "cuz : not-kitchen\n",
      "reason : not-kitchen\n",
      "worked : not-kitchen\n",
      "first : not-kitchen\n",
      "two : not-kitchen\n",
      "katt : not-kitchen\n",
      "culp : not-kitchen\n",
      "selleca : not-kitchen\n",
      "great : not-kitchen\n",
      "team : not-kitchen\n",
      "deserved : not-kitchen\n",
      "better : not-kitchen\n",
      "scripts : not-kitchen\n",
      "usually : not-kitchen\n",
      "got : not-kitchen\n",
      "unlike : not-kitchen\n",
      "many : not-kitchen\n",
      "i : not-kitchen\n",
      "seen : not-kitchen\n",
      "film : not-kitchen\n",
      "first : not-kitchen\n",
      "came : not-kitchen\n",
      "i : kitchen\n",
      "happy : kitchen\n",
      "i : kitchen\n",
      "owned : kitchen\n",
      "grill : kitchen\n",
      "pan : kitchen\n",
      "almost : kitchen\n",
      "years : kitchen\n",
      "great : kitchen\n",
      "job : kitchen\n",
      "grilling : kitchen\n",
      "everything : kitchen\n",
      "burgers : kitchen\n",
      "chicken : kitchen\n",
      "fish : kitchen\n",
      "thick : kitchen\n",
      "steaks : kitchen\n",
      "i : not-kitchen\n",
      "know : not-kitchen\n",
      "amazon : not-kitchen\n",
      "compusa : not-kitchen\n",
      "realize : not-kitchen\n",
      "save : not-kitchen\n",
      "money : not-kitchen\n",
      "buying : not-kitchen\n",
      "exact : not-kitchen\n",
      "product : not-kitchen\n",
      "Total kitchen words:  17\n",
      "Total non kitchen words:  58\n",
      "({'i': True, 'never': True, 'disappointed': True, 'performance': True}, 'kitchen')\n"
     ]
    }
   ],
   "source": [
    "total_kitchen_words = 0\n",
    "total_nonkitchen_words = 0\n",
    "for each in trainingsentences:\n",
    "    for val in each[0]:\n",
    "        if each[1] == \"kitchen\":\n",
    "            total_kitchen_words +=1\n",
    "        else:\n",
    "            total_nonkitchen_words += 1\n",
    "        print(val, \":\" , each[1])\n",
    "print(\"Total kitchen words: \",total_kitchen_words)\n",
    "print(\"Total non kitchen words: \",total_nonkitchen_words)\n",
    "\n",
    "print(testsentences[0])"
   ]
  },
  {
   "cell_type": "markdown",
   "metadata": {},
   "source": [
    "a) With reference to the sentences generated above, **explain** how a Naive Bayes classifer would be trained to carry out the task of deciding whether sentences are relevant to the kitchen domain.  You do **not** need to build or train a classifier.  However, you should explain the relevant probabilities with reference to examples taken from your samples of sentences.  \\[10 marks\\]"
   ]
  },
  {
   "cell_type": "markdown",
   "metadata": {},
   "source": [
    "A Naive Bayes Classifier works by using two sets of data to train a classifier which will be able to produce a probability based on the training data we have given it to determine if a document in our testing data is a certain classification. For this example we will be working with the probabilities for 'kitchen' and 'not-kitchen'.\n",
    "\n",
    "$$P(X|Y) = \\frac{P(Y|X)\\cdot P(X)}{P(Y)}$$ \n",
    "This is the **Bayes** rule, it is the underlying principle of our Naive Bayes Classifier. We let our variables X be defined as the class we are going to be identifying, in this case it will be kitchen and not-kitchen. Y becomes the document that we are classifying. Then to determine which class it falls under we compare the probabilities and the greater of the two should lead to the correct classification.\n",
    "\n",
    "$$P(X|Y)\\ becomes\\ for\\ our\\ two\\ classes \\ P(\\,\\mbox{kitchen}\\,|\\,d)\\ \\mbox{versus}\\ P(\\,\\mbox{not-kitchen}\\,|\\,d)$$\n",
    "\n",
    "The classifier works with pre calculated elements to produce a resulting probability. These elements are the class priors and the conditional probability. \n",
    "\n",
    "#### Class Prior:\n",
    "\n",
    "$P(\\,\\mbox{Class}\\,)=\\frac{X}{Y}$: This is the definition of a class prior, the probability that a class will occur in the training set. This is calculated from how many times a class occurs in our training set (X) and then divided by the total amount of documents in the training set (Y).\n",
    "\n",
    "##### From the Training Data\n",
    "\n",
    "_Kitchen_ -- The class prior from the given set is: $\\frac{2}{7}$   _Non-Kitchen_ -- The class prior from  the given set is: $\\frac{5}{7}$\n",
    "\n",
    "#### Conditional Probability:\n",
    "\n",
    "i.e. $P(\\,\\mbox{Word}\\,|\\,\\mbox{Class})=\\frac{X}{Y}$: This is the of conditional probability, it is used to determine the likelihood of finding a word based on its recurrence in our training data. This is dependant on the document class as only the words present in the documents for the respective class are counted against each other to produce the probability. \n",
    "\n",
    "##### From the Training Data\n",
    "\n",
    "_Kitchen_  Word  :**Book**  -- The conditional probability for this class  is: $\\frac{1}{17}$   _Non-Kitchen_ -- The probability for this class from the given set is: $\\frac{2}{58}$\n"
   ]
  },
  {
   "cell_type": "markdown",
   "metadata": {},
   "source": [
    "b) With reference to the sentences generated above, **explain** how a trained Naive Bayes classifier would assign a class to a sentence. \\[5 marks\\]"
   ]
  },
  {
   "cell_type": "markdown",
   "metadata": {},
   "source": [
    "The Naive Bayes will use the training data to become \"trained\", this will allows the classification to more reliably select the correct class for a given document or in this case a sentence. \n",
    "\n",
    "Selecting a value stored in our testing set we get: $ (\\{'i': True,\\ 'never': True,\\ 'disappointed': True,\\ 'performance': True\\}, \\ 'kitchen') $\n",
    "\n",
    "To then run the sentence through our classifier would result in the following:\n",
    "\n",
    "$$P(\\,d\\,|\\,c\\,) = P(X|Y) = \\frac{P(Y|X)\\cdot P(X)}{P(Y)}$$  \n",
    "\n",
    "With class $kitchen = c1$ and class $non-kitchen = c2 \\ , $ Sentence $d=\\{Word_1,\\ldots,Word_n\\}$, we have:\n",
    "\\begin{eqnarray*}\n",
    "P(\\,d\\,|\\,c1\\,) &=& P(\\,\\{Word_1,\\ldots,Word_n\\}\\,|\\,c\\,)\\\\\n",
    "&=& \\prod_{i=1}^n P(\\,w_i\\,|\\,c1\\,) = Kitchen Probability \n",
    "\\end{eqnarray*} \n",
    "\\begin{eqnarray*}\n",
    "P(\\,d\\,|\\,c2\\,) &=& P(\\,\\{Word_1,\\ldots,Word_n\\}\\,|\\,c\\,)\\\\\n",
    "&=& \\prod_{i=1}^n P(\\,w_i\\,|\\,c2\\,) = Non-Kitchen Probability \n",
    "\\end{eqnarray*}\n",
    "\n",
    "The larger of these resulting probablites will be the one that the classifer chooses to be the correct class.\n"
   ]
  },
  {
   "cell_type": "markdown",
   "metadata": {},
   "source": [
    "c) The labels assigned to the sentences contained in the variable `testsentences` above are \\['kitchen','not-kitchen','not-kitchen','not-kitchen'\\].  Using this example to illustrate your answer, **explain** how each of the performance metrics of *accuracy*, *precision*, *recall* and *F1-score* are calculated.  Which of these metrics would you use to choose between classification models in this example?  **Justify your answer**. \\[10 marks\\]\n"
   ]
  },
  {
   "cell_type": "markdown",
   "metadata": {},
   "source": [
    "Accuracy is defined by the following:\n",
    "$$Accuracy =\\dfrac{|\\{i|\\mbox{prediction}(i)=\\mbox{label}(i)\\}|}{|\\{i\\}|} = \\dfrac{True Positive + True Negative}{Total Predictions}$$ \n",
    "\n",
    "True positives plus the true negatives that we derive from our true class and predicted class confusion matrix. A high degree of accuracy is desirable as this allows us to predict classes with less unreliability. \n",
    "\n",
    "Precision and Recall go hand in hand together: \n",
    "\n",
    "$$ Precision = \\dfrac{True Positive}{True Positive + False Positive} \\qquad  Recall = \\dfrac{True Positive}{True Positive + False Negative} $$ \n",
    "\n",
    "Precision is the proportion of predictions that the classifier makes that are correct and Recall is the proportion of documents that are actually predicted correctly. It is good to have both high precision and recall as this is a good indication of a working classifier, however most of the time we tend to have a trade-off based on our classifications. When we have an equal amount of false negatives and false positives (and our accuracy is high) we have a balanced trade off. The standard naive bayes decision boundary is $\\dfrac{1}{2}$. The decision boundary can be moved to accommodate for either Precision or Recall, increasing the number of false positives leads to higher precision and increasing the number of false negatives leads to a better recall.\n",
    "\n",
    "F1 Score is the result of combining Precision and Recall, creating a mean of the two values. \n",
    "\n",
    "$$ F1 Score = \\dfrac{2 * Precision * Recall}{Precision + Recall} $$\n",
    "\n",
    "This is a useful metric as sometimes one of our precision or recall metrics can be greater or less than the other. F1 score allows us to have a more balanced view of how the classifier is working at classifying our document.\n",
    "\n",
    "**The Test Data** -- $ ['kitchen'\\ ,\\ 'not-kitchen'\\ ,\\ 'not-kitchen'\\ ,\\ 'not-kitchen']$ \n",
    "Based on our test data we can see that it is not evenly weighted which would lead to an uneven confusion matrix. The best metric to see how accurate the classifier is, is the F1 Score, as this will show a weighted result based on how good the classification is overall from the recall and precision.\n"
   ]
  },
  {
   "cell_type": "markdown",
   "metadata": {},
   "source": [
    "## Question 2: Training Data for Sentiment Analysis (25 marks)\n",
    "The objective of this question is to investigate the extent to which performance of a Naive Bayes classifier is affected by the quantity and quality of the training data.  Does more training data mean better performance?  Is performance degraded if we train on one domain and test on another domain?  For example, suppose we train a sentiment classifier on book reviews and then test that classifier on a collection of dvd reviews. Does it perform as well as it would when trained on dvd reviews?\n",
    "\n",
    "The code below is included to enable you to get pre-formatted training and test data for a given category (evenly split between positive and negative reviews).  In this question, there are marks available for the quality of your programming, your experimental design and your interpretation of results.\n"
   ]
  },
  {
   "cell_type": "code",
   "execution_count": 518,
   "metadata": {},
   "outputs": [],
   "source": [
    "def split_data(data, ratio=0.7): # when the second argument is not given, it defaults to 0.7\n",
    "    \"\"\"\n",
    "    Given corpus generator and ratio:\n",
    "     - partitions the corpus into training data and test data, where the proportion in train is ratio,\n",
    "\n",
    "    :param data: A corpus generator.\n",
    "    :param ratio: The proportion of training documents (default 0.7)\n",
    "    :return: a pair (tuple) of lists where the first element of the \n",
    "            pair is a list of the training data and the second is a list of the test data.\n",
    "    \"\"\"\n",
    "    \n",
    "    data = list(data)  \n",
    "    n = len(data)  \n",
    "    train_indices = random.sample(range(n), int(n * ratio))          \n",
    "    test_indices = list(set(range(n)) - set(train_indices))    \n",
    "    train = [data[i] for i in train_indices]           \n",
    "    test = [data[i] for i in test_indices]             \n",
    "    return (train, test)                       \n",
    " \n",
    "\n",
    "def feature_extract(review):\n",
    "    \"\"\"\n",
    "    Generate a feature representation for a review\n",
    "    :param review: AmazonReview object\n",
    "    :return: dictionary of Boolean features\n",
    "    \"\"\"\n",
    "    return {word:True for word in review.words()}\n",
    "\n",
    "def get_training_test_data(category,ratio=0.7,seed=candidateno):\n",
    "    \"\"\"\n",
    "    Get training and test data for a given category and ratio, pre-formatted for use with NB classifier\n",
    "    :param category: category of review corpus, one of [\"kitchen, \"dvd\", \"book\", \"electronics\"]\n",
    "    :param ratio: proportion of data to use as training data\n",
    "    :return: pair of lists \n",
    "    \"\"\"\n",
    "    reader=AmazonReviewCorpusReader().category(category)\n",
    "    random.seed(candidateno)\n",
    "    pos_train, pos_test = split_data(reader.positive().documents(),ratio=ratio)\n",
    "    neg_train, neg_test = split_data(reader.negative().documents(),ratio=ratio)\n",
    "    train_data=[(feature_extract(review),'P')for review in pos_train]+[(feature_extract(review),'N') for review in neg_train]\n",
    "    test_data=[(feature_extract(review),'P')for review in pos_test]+[(feature_extract(review),'N') for review in neg_test]\n",
    "    return train_data,test_data\n"
   ]
  },
  {
   "cell_type": "markdown",
   "metadata": {},
   "source": [
    "a) By varying the amount of training data used, **investigate** the impact of the amount of training data used on the accuracy of a Naive Bayes classifier for each of the four domains: *dvd*, *book*, *kitchen* and *electronics*.  You should use the NaiveBayesClassifier from the `nltk.classify` library.  You should also use a table and an appropriate graph(s) to display your results.  Make sure you **discuss** your results and conclusions. \\[8 marks\\]"
   ]
  },
  {
   "cell_type": "code",
   "execution_count": 519,
   "metadata": {},
   "outputs": [],
   "source": [
    "import nltk"
   ]
  },
  {
   "cell_type": "code",
   "execution_count": 520,
   "metadata": {},
   "outputs": [],
   "source": [
    "def reduced_training_set(data): # Defintion of algorithim that will produce a list of sliced training documents\n",
    "    #split = 10 \n",
    "    data_set = []\n",
    "    for x in range(9,-1,-1): #Loop repeats 10 times from 10 to 0 \n",
    "        #split -= 1 \n",
    "        data_set.append(data[int(len(data) * x/20) : int(len(data))]) #This adds a slice from a point in the list of training documents to the end of the given list, to our list \n",
    "    return data_set\n",
    "\n",
    "Review_Topics = [\"kitchen\", \"dvd\", \"book\", \"electronics\"]\n",
    "Train_Data = []\n",
    "Test_Data = []\n",
    "\n",
    "for topic in Review_Topics: #A loop to get all the required test and training data\n",
    "    Train_Data.append(get_training_test_data(topic)[0])\n",
    "    Test_Data.append(get_training_test_data(topic)[1])\n",
    "total_accuracy_dict = {}\n",
    "\n",
    "    \"\"\"\n",
    "    A looping structure that is created to produce an accuarcy result for each training and test domain, \n",
    "    with the varying training size.\n",
    "    \"\"\"\n",
    "\n",
    "for x in range(4):\n",
    "    current_result = {}\n",
    "    current_slice_val = 0\n",
    "    for sliced_set in reduced_training_set(Train_Data[x]):\n",
    "        classifier = nltk.NaiveBayesClassifier.train(sliced_set)\n",
    "        current_result[current_slice_val] = round(nltk.classify.accuracy(classifier, Test_Data[x]),4)\n",
    "        current_slice_val+= 1\n",
    "    total_accuracy_dict[x] = (current_result.copy())"
   ]
  },
  {
   "cell_type": "code",
   "execution_count": 521,
   "metadata": {
    "scrolled": false
   },
   "outputs": [
    {
     "data": {
      "text/html": [
       "<div>\n",
       "<style scoped>\n",
       "    .dataframe tbody tr th:only-of-type {\n",
       "        vertical-align: middle;\n",
       "    }\n",
       "\n",
       "    .dataframe tbody tr th {\n",
       "        vertical-align: top;\n",
       "    }\n",
       "\n",
       "    .dataframe thead th {\n",
       "        text-align: right;\n",
       "    }\n",
       "</style>\n",
       "<table border=\"1\" class=\"dataframe\">\n",
       "  <thead>\n",
       "    <tr style=\"text-align: right;\">\n",
       "      <th></th>\n",
       "      <th>Kitchen</th>\n",
       "      <th>DVD</th>\n",
       "      <th>Book</th>\n",
       "      <th>Electronics</th>\n",
       "    </tr>\n",
       "  </thead>\n",
       "  <tbody>\n",
       "    <tr>\n",
       "      <th>55%</th>\n",
       "      <td>0.6117</td>\n",
       "      <td>0.6333</td>\n",
       "      <td>0.5933</td>\n",
       "      <td>0.6017</td>\n",
       "    </tr>\n",
       "    <tr>\n",
       "      <th>60%</th>\n",
       "      <td>0.7533</td>\n",
       "      <td>0.7450</td>\n",
       "      <td>0.7167</td>\n",
       "      <td>0.7150</td>\n",
       "    </tr>\n",
       "    <tr>\n",
       "      <th>65%</th>\n",
       "      <td>0.7833</td>\n",
       "      <td>0.7200</td>\n",
       "      <td>0.7117</td>\n",
       "      <td>0.7417</td>\n",
       "    </tr>\n",
       "    <tr>\n",
       "      <th>70%</th>\n",
       "      <td>0.7933</td>\n",
       "      <td>0.7767</td>\n",
       "      <td>0.6967</td>\n",
       "      <td>0.7583</td>\n",
       "    </tr>\n",
       "    <tr>\n",
       "      <th>75%</th>\n",
       "      <td>0.7983</td>\n",
       "      <td>0.7683</td>\n",
       "      <td>0.7283</td>\n",
       "      <td>0.7850</td>\n",
       "    </tr>\n",
       "    <tr>\n",
       "      <th>80%</th>\n",
       "      <td>0.7917</td>\n",
       "      <td>0.7617</td>\n",
       "      <td>0.7267</td>\n",
       "      <td>0.7700</td>\n",
       "    </tr>\n",
       "    <tr>\n",
       "      <th>85%</th>\n",
       "      <td>0.8000</td>\n",
       "      <td>0.7750</td>\n",
       "      <td>0.7283</td>\n",
       "      <td>0.7633</td>\n",
       "    </tr>\n",
       "    <tr>\n",
       "      <th>90%</th>\n",
       "      <td>0.8133</td>\n",
       "      <td>0.7950</td>\n",
       "      <td>0.7050</td>\n",
       "      <td>0.7950</td>\n",
       "    </tr>\n",
       "    <tr>\n",
       "      <th>95%</th>\n",
       "      <td>0.8083</td>\n",
       "      <td>0.7950</td>\n",
       "      <td>0.6933</td>\n",
       "      <td>0.8083</td>\n",
       "    </tr>\n",
       "    <tr>\n",
       "      <th>100%</th>\n",
       "      <td>0.8217</td>\n",
       "      <td>0.8033</td>\n",
       "      <td>0.6817</td>\n",
       "      <td>0.8033</td>\n",
       "    </tr>\n",
       "  </tbody>\n",
       "</table>\n",
       "</div>"
      ],
      "text/plain": [
       "      Kitchen     DVD    Book   Electronics \n",
       "55%     0.6117  0.6333  0.5933        0.6017\n",
       "60%     0.7533  0.7450  0.7167        0.7150\n",
       "65%     0.7833  0.7200  0.7117        0.7417\n",
       "70%     0.7933  0.7767  0.6967        0.7583\n",
       "75%     0.7983  0.7683  0.7283        0.7850\n",
       "80%     0.7917  0.7617  0.7267        0.7700\n",
       "85%     0.8000  0.7750  0.7283        0.7633\n",
       "90%     0.8133  0.7950  0.7050        0.7950\n",
       "95%     0.8083  0.7950  0.6933        0.8083\n",
       "100%    0.8217  0.8033  0.6817        0.8033"
      ]
     },
     "metadata": {},
     "output_type": "display_data"
    },
    {
     "data": {
      "image/png": "[encoded data removed]",
      "text/plain": [
       "<matplotlib.figure.Figure at 0x1c52a9f89b0>"
      ]
     },
     "metadata": {},
     "output_type": "display_data"
    }
   ],
   "source": [
    "df = pd.DataFrame(total_accuracy_dict)\n",
    "df.index = ['55%', '60%','65%','70%','75%','80%','85%','90%','95%','100%']\n",
    "df.columns = ['Kitchen ', 'DVD ', 'Book ', 'Electronics ']\n",
    "display(df)\n",
    "\n",
    "df.plot(kind='line', stacked=False, rot=0, figsize=(12,6), legend=False, zorder=1, title=(\"How Different Ratio's of Training Data affect Accuracy\"))\n",
    "plt.grid(zorder=0)\n",
    "plt.legend(loc='center left', bbox_to_anchor=(1.0, 0.5))\n",
    "plt.xticks([0,1,2,3,4,5,6,7,8,9],df.index)\n",
    "plt.show()\n"
   ]
  },
  {
   "cell_type": "markdown",
   "metadata": {},
   "source": [
    "The question required a varying amount of training data to be used to train our naive bayes classifier to classify our test data. I split the varying amounts by ratio, working from 50% of the supplied training data and moving in increments of 5 towards 100%. \n",
    "\n",
    "I expected to see that as we increase the training ratio from the lower ratio to the higher ratio that this would lead to an increase in the classifier accuracy.\n",
    "\n",
    "I plotted the results onto a line graph as this is a useful resource to see how the accuracy varies across the changing training data ratio. For my seeded data set, it is seen that for Kitchen, Dvd and Electronics that increasing the training ratio increased the accuracy; all points at 90% are greater than at 60% as illustrated by the graph.\n",
    "\n",
    "The outlier here however is the Book topic. It seems as if our classifer was not able to correctly predict the correct classification as we increased the training set. It even is shown to descrease with 100% of the training set having lower accuracy than when at 60%. This indicates that our classifer was identifying with either too many false postives or false negatives resulting in a loss of accuracy. "
   ]
  },
  {
   "cell_type": "markdown",
   "metadata": {},
   "source": [
    "b) For each possible combination of source and target domain, **evaluate** the accuracy of a Naive Bayes classifier trained on the source domain and tested on the target domain.  There are four domains so there are 16 possible combinations you should consider.  You should use a table and an appropriate graph(s) to display your results.  Make sure you **discuss** your results and conclusions. \\[8 marks\\]"
   ]
  },
  {
   "cell_type": "code",
   "execution_count": 562,
   "metadata": {},
   "outputs": [],
   "source": [
    "Review_Topics = [\"kitchen\", \"dvd\", \"book\", \"electronics\"]\n",
    "Train_Data = []\n",
    "Test_Data = []\n",
    "\n",
    "for topic in Review_Topics:\n",
    "    Train_Data.append(get_training_test_data(topic)[0])\n",
    "    Test_Data.append(get_training_test_data(topic)[1])\n",
    "    \n",
    "storage_list = {}\n",
    "accuracy_list = {}\n",
    "current_list = 0\n",
    "for each_set in Train_Data:\n",
    "    classifier = nltk.NaiveBayesClassifier.train(each_set)\n",
    "    for x in range(4):\n",
    "        accuracy_list[x] = round(nltk.classify.accuracy(classifier, Test_Data[x]),4)\n",
    "    storage_list[current_list] = (accuracy_list.copy())\n",
    "    current_list += 1\n",
    "    accuracy_list.clear()\n"
   ]
  },
  {
   "cell_type": "code",
   "execution_count": 563,
   "metadata": {
    "scrolled": false
   },
   "outputs": [
    {
     "data": {
      "text/html": [
       "<div>\n",
       "<style scoped>\n",
       "    .dataframe tbody tr th:only-of-type {\n",
       "        vertical-align: middle;\n",
       "    }\n",
       "\n",
       "    .dataframe tbody tr th {\n",
       "        vertical-align: top;\n",
       "    }\n",
       "\n",
       "    .dataframe thead th {\n",
       "        text-align: right;\n",
       "    }\n",
       "</style>\n",
       "<table border=\"1\" class=\"dataframe\">\n",
       "  <thead>\n",
       "    <tr style=\"text-align: right;\">\n",
       "      <th></th>\n",
       "      <th>Kitchen Training</th>\n",
       "      <th>DVD Training</th>\n",
       "      <th>Book Training</th>\n",
       "      <th>Electronics Training</th>\n",
       "    </tr>\n",
       "  </thead>\n",
       "  <tbody>\n",
       "    <tr>\n",
       "      <th>Kitchen Test Domain</th>\n",
       "      <td>0.8217</td>\n",
       "      <td>0.6883</td>\n",
       "      <td>0.5717</td>\n",
       "      <td>0.7467</td>\n",
       "    </tr>\n",
       "    <tr>\n",
       "      <th>DVD Test Domain</th>\n",
       "      <td>0.6750</td>\n",
       "      <td>0.8033</td>\n",
       "      <td>0.6333</td>\n",
       "      <td>0.7167</td>\n",
       "    </tr>\n",
       "    <tr>\n",
       "      <th>Book Test Domain</th>\n",
       "      <td>0.6933</td>\n",
       "      <td>0.7400</td>\n",
       "      <td>0.6817</td>\n",
       "      <td>0.6633</td>\n",
       "    </tr>\n",
       "    <tr>\n",
       "      <th>Electronics Test Domain</th>\n",
       "      <td>0.7417</td>\n",
       "      <td>0.6617</td>\n",
       "      <td>0.5550</td>\n",
       "      <td>0.8033</td>\n",
       "    </tr>\n",
       "  </tbody>\n",
       "</table>\n",
       "</div>"
      ],
      "text/plain": [
       "                         Kitchen Training  DVD Training  Book Training  \\\n",
       "Kitchen Test Domain                0.8217        0.6883         0.5717   \n",
       "DVD Test Domain                    0.6750        0.8033         0.6333   \n",
       "Book Test Domain                   0.6933        0.7400         0.6817   \n",
       "Electronics Test Domain            0.7417        0.6617         0.5550   \n",
       "\n",
       "                         Electronics Training  \n",
       "Kitchen Test Domain                    0.7467  \n",
       "DVD Test Domain                        0.7167  \n",
       "Book Test Domain                       0.6633  \n",
       "Electronics Test Domain                0.8033  "
      ]
     },
     "metadata": {},
     "output_type": "display_data"
    },
    {
     "data": {
      "image/png": "[encoded data removed]",
      "text/plain": [
       "<matplotlib.figure.Figure at 0x1c51e273b38>"
      ]
     },
     "metadata": {},
     "output_type": "display_data"
    }
   ],
   "source": [
    "#df = pd.DataFrame(storage_list, index=['Kitchen Trained', 'DVD Trained', 'Book Trained', 'Electronics Trained'])\n",
    "df = pd.DataFrame(storage_list)\n",
    "df.index = ['Kitchen Test Domain', 'DVD Test Domain', 'Book Test Domain', 'Electronics Test Domain']\n",
    "df.columns = ['Kitchen Training', 'DVD Training', 'Book Training', 'Electronics Training']\n",
    "display(df)\n",
    "\n",
    "df.plot(kind='bar', stacked=False, rot=0, figsize=(12,6), legend=False, zorder=10)\n",
    "plt.grid(zorder=0)\n",
    "plt.legend(loc='center left', bbox_to_anchor=(1.0, 0.5))\n",
    "plt.show()"
   ]
  },
  {
   "cell_type": "markdown",
   "metadata": {},
   "source": [
    "The question asks us to test different domains with different training data. To do this we will train a classifer with each  training data domain and apply the classifier to the 4 domains we have to produce an accuracy result. $4\\ x\\ 4$ Combinations are possible as this each test domain against each training domain. \n",
    "\n",
    "I computed all of these using nested for-loops, one loop to train the classifer for a training data set and then another to get the accuracy from the classification of each test domain. After collecting the data, I stored it within a list to be used by pandas for creating the table.\n",
    "\n",
    "I expected that the classifiers trained would achieve the highest accuracy on the respective test domain that it is a part of. \n",
    "\n",
    "Viewing my results I can see that this is true for Kitchen, Test and Electronics, however once more the book classifier performs poorly, being outclassed in accuracy by the classifer for the DVD."
   ]
  },
  {
   "cell_type": "markdown",
   "metadata": {},
   "source": [
    "c) Adapt your code so that you can build and use a training set built from multiple categories.  Now **investigate** how having a mixture of source domains affects the accuracy of the Naive Bayes classifier on the target domain.  Make sure you control for or consider how much any improvements are due to the quantity of the training data. \\[9 marks\\]"
   ]
  },
  {
   "cell_type": "code",
   "execution_count": 555,
   "metadata": {},
   "outputs": [],
   "source": [
    "def populate_multiple(sources):\n",
    "    training_docs = []\n",
    "    for each_source in sources:\n",
    "        if(len(sources) == 1):\n",
    "            training_docs += get_training_test_data(each_source)[0]\n",
    "        if(len(sources) == 2):\n",
    "            training_docs += get_training_test_data(each_source,0.35)[0]\n",
    "        if(len(sources) == 3):\n",
    "            training_docs += get_training_test_data(each_source,0.23335)[0]\n",
    "        if(len(sources) == 4):\n",
    "            training_docs += get_training_test_data(each_source,0.175)[0]\n",
    "    return training_docs\n",
    "\n",
    "Topic_Combo_1_1 = [\"kitchen\"]\n",
    "Topic_Combo_1_2 = [\"dvd\"]\n",
    "Topic_Combo_1_3 = [\"book\"]\n",
    "Topic_Combo_1_4 = [\"electronics\"]\n",
    "Topic_Combo_2_1 = [\"kitchen\", \"dvd\"]\n",
    "Topic_Combo_2_2 = [\"kitchen\", \"book\"]\n",
    "Topic_Combo_2_3 = [\"kitchen\", \"electronics\"]\n",
    "Topic_Combo_2_4 = [\"dvd\", \"book\"]\n",
    "Topic_Combo_2_5 = [\"book\", \"electronics\"]\n",
    "Topic_Combo_2_6 = [\"dvd\", \"electronics\"]\n",
    "Topic_Combo_3_1 = [\"kitchen\", \"dvd\", \"book\"]\n",
    "Topic_Combo_3_2 = [\"kitchen\", \"dvd\", \"electronics\"]\n",
    "Topic_Combo_3_3 = [\"electronics\", \"dvd\", \"book\"]\n",
    "Topic_Combo_4_1 = [\"kitchen\", \"dvd\", \"book\", \"electronics\"]\n",
    "Topic_List = []\n",
    "Topic_List.extend([Topic_Combo_1_1, Topic_Combo_1_2, Topic_Combo_1_3, Topic_Combo_1_4])\n",
    "Topic_List.extend([Topic_Combo_2_1, Topic_Combo_2_2, Topic_Combo_2_3, Topic_Combo_2_4, Topic_Combo_2_5,Topic_Combo_2_6])\n",
    "Topic_List.extend([Topic_Combo_3_1, Topic_Combo_3_2, Topic_Combo_3_3])\n",
    "Topic_List.extend([Topic_Combo_4_1])\n",
    "Train_Data_1S = []\n",
    "Train_Data_2S = []\n",
    "Train_Data_3S = []\n",
    "Train_Data_4S = []\n",
    "Total_Train_Data =[]\n",
    "Total_Train_Data.extend([Train_Data_1S, Train_Data_2S, Train_Data_3S, Train_Data_4S])\n",
    "Test_Data = []\n",
    "\n",
    "for topic in Topic_Combo_4_1:\n",
    "    Test_Data.append(get_training_test_data(topic)[1])\n",
    "\n",
    "for each_list in Topic_List:\n",
    "    if(len(each_list) == 1):\n",
    "        Train_Data_1S.append(populate_multiple(each_list))\n",
    "    if(len(each_list) == 2):\n",
    "        Train_Data_2S.append(populate_multiple(each_list))\n",
    "    if(len(each_list) == 3):\n",
    "        Train_Data_3S.append(populate_multiple(each_list))\n",
    "    if(len(each_list) == 4):\n",
    "        Train_Data_4S.append(populate_multiple(each_list))"
   ]
  },
  {
   "cell_type": "markdown",
   "metadata": {},
   "source": [
    "This code is building the test data for the question, it requires us to produce a training set built from multiple source domains. Mixing the domains will require slicing the training data documents to preserve the original 0.7 ratio of training documents to test data. I have arbitrarily chosen to code each possible combination of data, which I have written out by hand. \n",
    "\n",
    "I built a function called populate multiple which takes a list of the training sources, it then produces the correct amount of training data required by slicing the training data at an appropriate ratio for each topic present in the list of sources. This is returned and for-loop was used to store each training data in an apropriate list for the number of sources."
   ]
  },
  {
   "cell_type": "code",
   "execution_count": 556,
   "metadata": {},
   "outputs": [],
   "source": [
    "current_accuracy_list = []\n",
    "current_train_accuracy_dict = {}\n",
    "total_accuracy_dict = {}\n",
    "c_list = 0 #Current doc in Training List \n",
    "c_t_list = 0 #Current Training List\n",
    "for test_domain in Test_Data:   \n",
    "    for training_list in Total_Train_Data:\n",
    "        current_accuracy_list.clear()\n",
    "        for training_doc in training_list:\n",
    "            classifier = nltk.NaiveBayesClassifier.train(training_doc)    \n",
    "            current_accuracy_list.append(round(nltk.classify.accuracy(classifier, test_domain),4))\n",
    "        current_train_accuracy_dict[c_list] = current_accuracy_list.copy()\n",
    "        c_list += 1\n",
    "    total_accuracy_dict[c_t_list] = current_train_accuracy_dict.copy()\n",
    "    c_t_list += 1\n",
    "    c_list = 0\n",
    "    current_train_accuracy_dict.clear()"
   ]
  },
  {
   "cell_type": "markdown",
   "metadata": {},
   "source": [
    "This part of the code collects the accuracy results. A loop trains the classifer for each training set and tests it against the 4 domains available, this is then all stored appropriately."
   ]
  },
  {
   "cell_type": "code",
   "execution_count": 559,
   "metadata": {
    "scrolled": false
   },
   "outputs": [
    {
     "data": {
      "text/html": [
       "<div>\n",
       "<style scoped>\n",
       "    .dataframe tbody tr th:only-of-type {\n",
       "        vertical-align: middle;\n",
       "    }\n",
       "\n",
       "    .dataframe tbody tr th {\n",
       "        vertical-align: top;\n",
       "    }\n",
       "\n",
       "    .dataframe thead th {\n",
       "        text-align: right;\n",
       "    }\n",
       "</style>\n",
       "<table border=\"1\" class=\"dataframe\">\n",
       "  <thead>\n",
       "    <tr style=\"text-align: right;\">\n",
       "      <th></th>\n",
       "      <th>Book Testing Domain</th>\n",
       "      <th>DVD Testing Domain</th>\n",
       "      <th>Electronics Testing Domain</th>\n",
       "      <th>Kitchen Testing Domain</th>\n",
       "    </tr>\n",
       "  </thead>\n",
       "  <tbody>\n",
       "    <tr>\n",
       "      <th>Kitchen</th>\n",
       "      <td>0.6933</td>\n",
       "      <td>0.6750</td>\n",
       "      <td>0.7417</td>\n",
       "      <td>0.8217</td>\n",
       "    </tr>\n",
       "    <tr>\n",
       "      <th>DVD</th>\n",
       "      <td>0.7400</td>\n",
       "      <td>0.8033</td>\n",
       "      <td>0.6617</td>\n",
       "      <td>0.6883</td>\n",
       "    </tr>\n",
       "    <tr>\n",
       "      <th>Book</th>\n",
       "      <td>0.6817</td>\n",
       "      <td>0.6333</td>\n",
       "      <td>0.5550</td>\n",
       "      <td>0.5717</td>\n",
       "    </tr>\n",
       "    <tr>\n",
       "      <th>Electronics</th>\n",
       "      <td>0.6633</td>\n",
       "      <td>0.7167</td>\n",
       "      <td>0.8033</td>\n",
       "      <td>0.7467</td>\n",
       "    </tr>\n",
       "  </tbody>\n",
       "</table>\n",
       "</div>"
      ],
      "text/plain": [
       "             Book Testing Domain  DVD Testing Domain  \\\n",
       "Kitchen                   0.6933              0.6750   \n",
       "DVD                       0.7400              0.8033   \n",
       "Book                      0.6817              0.6333   \n",
       "Electronics               0.6633              0.7167   \n",
       "\n",
       "             Electronics Testing Domain  Kitchen Testing Domain  \n",
       "Kitchen                          0.7417                  0.8217  \n",
       "DVD                              0.6617                  0.6883  \n",
       "Book                             0.5550                  0.5717  \n",
       "Electronics                      0.8033                  0.7467  "
      ]
     },
     "metadata": {},
     "output_type": "display_data"
    },
    {
     "data": {
      "image/png": "[encoded data removed]",
      "text/plain": [
       "<matplotlib.figure.Figure at 0x1c522dad4a8>"
      ]
     },
     "metadata": {},
     "output_type": "display_data"
    },
    {
     "data": {
      "text/html": [
       "<div>\n",
       "<style scoped>\n",
       "    .dataframe tbody tr th:only-of-type {\n",
       "        vertical-align: middle;\n",
       "    }\n",
       "\n",
       "    .dataframe tbody tr th {\n",
       "        vertical-align: top;\n",
       "    }\n",
       "\n",
       "    .dataframe thead th {\n",
       "        text-align: right;\n",
       "    }\n",
       "</style>\n",
       "<table border=\"1\" class=\"dataframe\">\n",
       "  <thead>\n",
       "    <tr style=\"text-align: right;\">\n",
       "      <th></th>\n",
       "      <th>Book Testing Domain</th>\n",
       "      <th>DVD Testing Domain</th>\n",
       "      <th>Electronics Testing Domain</th>\n",
       "      <th>Kitchen Testing Domain</th>\n",
       "    </tr>\n",
       "  </thead>\n",
       "  <tbody>\n",
       "    <tr>\n",
       "      <th>Kitchen + DVD</th>\n",
       "      <td>0.7267</td>\n",
       "      <td>0.8167</td>\n",
       "      <td>0.7200</td>\n",
       "      <td>0.8033</td>\n",
       "    </tr>\n",
       "    <tr>\n",
       "      <th>Kitchen + Book</th>\n",
       "      <td>0.6983</td>\n",
       "      <td>0.6800</td>\n",
       "      <td>0.6617</td>\n",
       "      <td>0.7600</td>\n",
       "    </tr>\n",
       "    <tr>\n",
       "      <th>Kitchen + Electronics</th>\n",
       "      <td>0.6450</td>\n",
       "      <td>0.7233</td>\n",
       "      <td>0.8250</td>\n",
       "      <td>0.8350</td>\n",
       "    </tr>\n",
       "    <tr>\n",
       "      <th>DVD + Book</th>\n",
       "      <td>0.7150</td>\n",
       "      <td>0.6933</td>\n",
       "      <td>0.5883</td>\n",
       "      <td>0.5867</td>\n",
       "    </tr>\n",
       "    <tr>\n",
       "      <th>DVD + Electronics</th>\n",
       "      <td>0.6583</td>\n",
       "      <td>0.6583</td>\n",
       "      <td>0.6667</td>\n",
       "      <td>0.6967</td>\n",
       "    </tr>\n",
       "    <tr>\n",
       "      <th>Book + Electronics</th>\n",
       "      <td>0.7133</td>\n",
       "      <td>0.8083</td>\n",
       "      <td>0.7567</td>\n",
       "      <td>0.7133</td>\n",
       "    </tr>\n",
       "  </tbody>\n",
       "</table>\n",
       "</div>"
      ],
      "text/plain": [
       "                       Book Testing Domain  DVD Testing Domain  \\\n",
       "Kitchen + DVD                       0.7267              0.8167   \n",
       "Kitchen + Book                      0.6983              0.6800   \n",
       "Kitchen + Electronics               0.6450              0.7233   \n",
       "DVD + Book                          0.7150              0.6933   \n",
       "DVD + Electronics                   0.6583              0.6583   \n",
       "Book + Electronics                  0.7133              0.8083   \n",
       "\n",
       "                       Electronics Testing Domain  Kitchen Testing Domain  \n",
       "Kitchen + DVD                              0.7200                  0.8033  \n",
       "Kitchen + Book                             0.6617                  0.7600  \n",
       "Kitchen + Electronics                      0.8250                  0.8350  \n",
       "DVD + Book                                 0.5883                  0.5867  \n",
       "DVD + Electronics                          0.6667                  0.6967  \n",
       "Book + Electronics                         0.7567                  0.7133  "
      ]
     },
     "metadata": {},
     "output_type": "display_data"
    },
    {
     "data": {
      "image/png": "[encoded data removed]",
      "text/plain": [
       "<matplotlib.figure.Figure at 0x1c520a979b0>"
      ]
     },
     "metadata": {},
     "output_type": "display_data"
    },
    {
     "data": {
      "text/html": [
       "<div>\n",
       "<style scoped>\n",
       "    .dataframe tbody tr th:only-of-type {\n",
       "        vertical-align: middle;\n",
       "    }\n",
       "\n",
       "    .dataframe tbody tr th {\n",
       "        vertical-align: top;\n",
       "    }\n",
       "\n",
       "    .dataframe thead th {\n",
       "        text-align: right;\n",
       "    }\n",
       "</style>\n",
       "<table border=\"1\" class=\"dataframe\">\n",
       "  <thead>\n",
       "    <tr style=\"text-align: right;\">\n",
       "      <th></th>\n",
       "      <th>Book Testing Domain</th>\n",
       "      <th>DVD Testing Domain</th>\n",
       "      <th>Electronics Testing Domain</th>\n",
       "      <th>Kitchen Testing Domain</th>\n",
       "    </tr>\n",
       "  </thead>\n",
       "  <tbody>\n",
       "    <tr>\n",
       "      <th>Kitchen + DVD + Book</th>\n",
       "      <td>0.8133</td>\n",
       "      <td>0.8100</td>\n",
       "      <td>0.7467</td>\n",
       "      <td>0.8183</td>\n",
       "    </tr>\n",
       "    <tr>\n",
       "      <th>Kitchen + DVD + Electronics</th>\n",
       "      <td>0.7100</td>\n",
       "      <td>0.8067</td>\n",
       "      <td>0.7750</td>\n",
       "      <td>0.8133</td>\n",
       "    </tr>\n",
       "    <tr>\n",
       "      <th>Electronics + DVD + Book</th>\n",
       "      <td>0.7950</td>\n",
       "      <td>0.7967</td>\n",
       "      <td>0.7250</td>\n",
       "      <td>0.7133</td>\n",
       "    </tr>\n",
       "  </tbody>\n",
       "</table>\n",
       "</div>"
      ],
      "text/plain": [
       "                             Book Testing Domain  DVD Testing Domain  \\\n",
       "Kitchen + DVD + Book                      0.8133              0.8100   \n",
       "Kitchen + DVD + Electronics               0.7100              0.8067   \n",
       "Electronics + DVD + Book                  0.7950              0.7967   \n",
       "\n",
       "                             Electronics Testing Domain  \\\n",
       "Kitchen + DVD + Book                             0.7467   \n",
       "Kitchen + DVD + Electronics                      0.7750   \n",
       "Electronics + DVD + Book                         0.7250   \n",
       "\n",
       "                             Kitchen Testing Domain  \n",
       "Kitchen + DVD + Book                         0.8183  \n",
       "Kitchen + DVD + Electronics                  0.8133  \n",
       "Electronics + DVD + Book                     0.7133  "
      ]
     },
     "metadata": {},
     "output_type": "display_data"
    },
    {
     "data": {
      "image/png": "[encoded data removed]",
      "text/plain": [
       "<matplotlib.figure.Figure at 0x1c51f8e45f8>"
      ]
     },
     "metadata": {},
     "output_type": "display_data"
    },
    {
     "data": {
      "text/html": [
       "<div>\n",
       "<style scoped>\n",
       "    .dataframe tbody tr th:only-of-type {\n",
       "        vertical-align: middle;\n",
       "    }\n",
       "\n",
       "    .dataframe tbody tr th {\n",
       "        vertical-align: top;\n",
       "    }\n",
       "\n",
       "    .dataframe thead th {\n",
       "        text-align: right;\n",
       "    }\n",
       "</style>\n",
       "<table border=\"1\" class=\"dataframe\">\n",
       "  <thead>\n",
       "    <tr style=\"text-align: right;\">\n",
       "      <th></th>\n",
       "      <th>Book Testing Domain</th>\n",
       "      <th>DVD Testing Domain</th>\n",
       "      <th>Electronics Testing Domain</th>\n",
       "      <th>Kitchen Testing Domain</th>\n",
       "    </tr>\n",
       "  </thead>\n",
       "  <tbody>\n",
       "    <tr>\n",
       "      <th>Kitchen + DVD + Book + Electronics</th>\n",
       "      <td>0.755</td>\n",
       "      <td>0.7883</td>\n",
       "      <td>0.7167</td>\n",
       "      <td>0.74</td>\n",
       "    </tr>\n",
       "  </tbody>\n",
       "</table>\n",
       "</div>"
      ],
      "text/plain": [
       "                                    Book Testing Domain  DVD Testing Domain  \\\n",
       "Kitchen + DVD + Book + Electronics                0.755              0.7883   \n",
       "\n",
       "                                    Electronics Testing Domain  \\\n",
       "Kitchen + DVD + Book + Electronics                      0.7167   \n",
       "\n",
       "                                    Kitchen Testing Domain  \n",
       "Kitchen + DVD + Book + Electronics                    0.74  "
      ]
     },
     "metadata": {},
     "output_type": "display_data"
    },
    {
     "data": {
      "image/png": "[encoded data removed]",
      "text/plain": [
       "<matplotlib.figure.Figure at 0x1c51bb00a58>"
      ]
     },
     "metadata": {},
     "output_type": "display_data"
    }
   ],
   "source": [
    "def populate_numbered_sort_dict(x):\n",
    "    x -= 1\n",
    "    d = {\n",
    "        \"Kitchen Testing Domain\":total_accuracy_dict[0][x],\n",
    "        \"DVD Testing Domain\":total_accuracy_dict[1][x],\n",
    "        \"Book Testing Domain\":total_accuracy_dict[2][x],\n",
    "        \"Electronics Testing Domain\":total_accuracy_dict[3][x],\n",
    "    }\n",
    "    return d.copy()\n",
    "\n",
    "OneSource = populate_numbered_sort_dict(1)\n",
    "TwoSource = populate_numbered_sort_dict(2)\n",
    "ThreeSource = populate_numbered_sort_dict(3)\n",
    "FourSource = populate_numbered_sort_dict(4)\n",
    "\n",
    "df = pd.DataFrame(OneSource)\n",
    "df.index = ('Kitchen','DVD','Book','Electronics')\n",
    "display(df)\n",
    "df.plot(kind='barh', stacked=False, rot=0, figsize=(8,4), legend=False, zorder=10, title=(\"Single Source Graph\"))\n",
    "\n",
    "plt.legend(loc='center left', bbox_to_anchor=(1.0, 0.5))\n",
    "plt.show()\n",
    "\n",
    "df = pd.DataFrame(TwoSource)\n",
    "df.index = ('Kitchen + DVD','Kitchen + Book','Kitchen + Electronics','DVD + Book', 'DVD + Electronics','Book + Electronics')\n",
    "display(df)\n",
    "df.plot(kind='barh', stacked=False, rot=0, figsize=(10,6), legend=False, zorder=10, title=(\"Double Source Graph\"))\n",
    "\n",
    "plt.legend(loc='center left', bbox_to_anchor=(1.0, 0.5))\n",
    "plt.show()\n",
    "\n",
    "df = pd.DataFrame(ThreeSource)\n",
    "df.index = ('Kitchen + DVD + Book','Kitchen + DVD + Electronics','Electronics + DVD + Book')\n",
    "display(df)\n",
    "df.plot(kind='barh', stacked=False, rot=0, figsize=(9,4), legend=False, zorder=10, title=(\"Triple Source Graph\"))\n",
    "\n",
    "plt.legend(loc='center left', bbox_to_anchor=(1.0, 0.5))\n",
    "plt.show()\n",
    "\n",
    "df = pd.DataFrame(FourSource)\n",
    "df.index = ['Kitchen + DVD + Book + Electronics']\n",
    "display(df)\n",
    "df.plot(kind='bar', stacked=False, rot=0, figsize=(3,4), legend=False, zorder=10, title=(\"Quad Source Graph\"))\n",
    "\n",
    "plt.legend(loc='center left', bbox_to_anchor=(1.0, 0.5))\n",
    "plt.show()\n"
   ]
  },
  {
   "cell_type": "markdown",
   "metadata": {},
   "source": [
    "The data produced from the resulting for loop is now displayed. Each training set will produces its own table and graph.\n",
    "\n",
    "Before analysing the data, I predict that the classifiers that have been given training data for the domain that will be classified will perform better than if they have no training data from test domain. \n",
    "\n",
    "Looking at the single source data, we can see the same results as before in our part b. Every classifier performs best in their own category par book, which is beaten by dvd.\n",
    "\n",
    "The double source data graph shows confirms my prediction as the combined training data which contains data from the same domain as the testing data results in higher accuracy than if without, this is further supported in the triple source graph and table.\n",
    "\n",
    "Interestingly looking at the quad source graph, we can see that overall, by taking training data from each domain, the classifier has a greater accuracy for each test domain than if it was tested without, over all sources.\n"
   ]
  },
  {
   "cell_type": "markdown",
   "metadata": {},
   "source": [
    "## Question 3: Document Similarity (25 marks)\n",
    "The objective of this question is to investigate whether incorporating lexical knowledge from WordNet might improve document similarity methods.  For example, knowing that both *tiger* and *leopard* are hyponyms of *big_cat* should increase the similarity between a document mentioning a *tiger* and a document mentioning a *leopard*.\n",
    "\n",
    "The code below will generate two document collections, both in bag-of-words format, one from the Medline Corpus and one from the Wall Street Journal corpus.\n",
    "\n",
    "In this question, there are marks available for the quality of your code and the quality of your explanations."
   ]
  },
  {
   "cell_type": "code",
   "execution_count": 569,
   "metadata": {},
   "outputs": [],
   "source": [
    "from sussex_nltk.corpus_readers import MedlineCorpusReader\n",
    "from sussex_nltk.corpus_readers import WSJCorpusReader\n",
    "from nltk.stem.wordnet import WordNetLemmatizer\n",
    "\n",
    "def normalise(tokenlist):\n",
    "    tokenlist=[token.lower() for token in tokenlist]\n",
    "    tokenlist=[\"NUM\" if token.isdigit() else token for token in tokenlist]\n",
    "    tokenlist=[\"Nth\" if (token.endswith((\"nd\",\"st\",\"th\")) and token[:-2].isdigit()) else token for token in tokenlist]\n",
    "    tokenlist=[\"NUM\" if re.search(\"^[+-]?[0-9]+\\.[0-9]\",token) else token for token in tokenlist]\n",
    "    return tokenlist\n",
    "\n",
    "def filter_stopwords(tokenlist):\n",
    "    stop = stopwords.words('english')\n",
    "    return [w for w in tokenlist if w.isalpha() and w not in stop]\n",
    "\n",
    "def stem(tokenlist):\n",
    "    st=WordNetLemmatizer()\n",
    "    return [st.lemmatize(token) for token in tokenlist]\n",
    "\n",
    "   \n",
    "def make_bow(somestring):\n",
    "    rep=word_tokenize(somestring)  #step 1\n",
    "    rep=normalise(rep)   #step 2\n",
    "    rep=stem(rep)   #step 3\n",
    "    rep=filter_stopwords(rep)  #step 4\n",
    "    dict_rep={}\n",
    "    for token in rep:\n",
    "        dict_rep[token]=dict_rep.get(token,0)+1  #step 5\n",
    "    return(dict_rep)\n",
    "\n",
    "wsj=WSJCorpusReader()\n",
    "medline=MedlineCorpusReader()\n",
    "\n",
    "collectionsize=50\n",
    "collections={\"wsj\":[],\"medline\":[]}\n",
    "\n",
    "for key in collections.keys():\n",
    "    if key==\"wsj\":\n",
    "        generator=wsj.raw()\n",
    "    else:\n",
    "        generator=medline.raw()\n",
    "    while len(collections[key])<collectionsize:\n",
    "        collections[key].append(next(generator))\n",
    "\n",
    "bow_collections={key:[make_bow(doc) for doc in collection] for key,collection in collections.items()}"
   ]
  },
  {
   "cell_type": "markdown",
   "metadata": {},
   "source": [
    "a). For each step in the `make_bow()` function, **explain** what it does and why it is applicable when creating document representations for document similarity methods. \\[8 marks\\]"
   ]
  },
  {
   "cell_type": "markdown",
   "metadata": {},
   "source": [
    "#### make_bow() -- aka Make Bag of Words\n",
    "\n",
    "**Step 1** -- The first step here is to produced a tokenised list from an input defined as somestring. This will be of the form: $TokenList=\\{'Item_1\\ ',\\ \\ldots \\ , \\ 'Item_n'\\}$ -- This collections holds our tokens, which have been found in the string. When applied to a document it will break the document down to a store of all the elements separated by whitespace, new line breaks and indentation in a list. This is assigned to a variable labelled 'rep'. Tokenisation is an important procedure as the list as a way of iterating and accessing items that can represent a document without having to deal a document being represented by a string variable.\n",
    "\n",
    "**Step 2** -- This step reduces the list created from step 1 in several important ways. A function called normalise is called, this performs the following on the given list; every item in the list is moved to lowercase as capitalisation is unimportant for classification. Numbers are then removed from the list. The last step my miss numbers that have words attached to them, so the next step removed a number letter combination such as 1st, 2nd and 4th (However an item such as 3rd would pass this). The function then searches for any instance of a decimal and removes it. After this the list is returned a assigned to 'rep'.\n",
    "\n",
    "**Step 3** -- The list is now passed to a function stem. Stem creates a 'WordNetLemmatizer' which is then used to lemmatize each item in the list. 'rep' is updated to the returned list. Lemmatisation is the process of identifying multiple forms of the same word into a single meaning, an example of this would be wolves to wolf. A key aspect of lemmatisation is how the lemmatised word still works in the context of a given document as this is important to how a group of similar words would reduce. An Example: meeting could be reduced to meet, however the sentence \"We are meeting soon\" would be made incoherent, so this action would probably not be taken.\n",
    "\n",
    "**Step 4** -- The list is now passed to another function, 'filter_stopwords;. This function runs the list through a return list iteration which checks if the item is alpha and a stopword. For an item to be alpha it needs to contain no spaces, and digits in it. A stopword is classified as a word that is deemed insignificant for search queries, they are typically removed due to how common they are in a search and would return a large amount of data that is not intended. Stopwords are language dependant so the function defines English here. An example stopword is 'a', this is used so commonly in the English lexicon it would return an enormous of documents if searched. Stop words are removed, which will reduce the list of items to words that are most significant. \n",
    "\n",
    "At this point in the function, the data type is changed from a list to dictionary so a dictionary variable is created, a for loop is then used to traverse the whole list.\n",
    "\n",
    "**Step 5** -- Each item in the list is used as a key in the dictionary, at each instance of the key being added to the dictionary the value is set to 1. In this datatype, each item held is a joint entity of a 'key' and a 'value'. Each token becomes the key in the dictionary with each instance of the same token being found causing the count to increase from 1.\n",
    "\n",
    "**Returns** -- The function now returns the newly created dictionary to be used.\n",
    "\n",
    "The term bag of words is used as we have transformed a document into an iteritable object which shows the most noteworthy and important aspects of this document and the frequency they occur at in way that can now be used by a document classifier in a manner this is far easier than before. For example, if we were to inspect the bow for a document and saw the most common words revolved around a topic such as food; the words could be 'taste', 'flavour', 'smell', a person would be able to classify this document.\n"
   ]
  },
  {
   "cell_type": "markdown",
   "metadata": {},
   "source": [
    "b). Apply a TF-IDF weighting to the representations and then compute: \n",
    "* the average cosine similarity of medline documents to each other, \n",
    "* the average cosine similarity of WSJ documents to each other,\n",
    "* the average cosine similarity of medline documents to WSJ documents\n",
    "\\[8 marks\\]"
   ]
  },
  {
   "cell_type": "code",
   "execution_count": 580,
   "metadata": {
    "scrolled": true
   },
   "outputs": [
    {
     "name": "stdout",
     "output_type": "stream",
     "text": [
      "Average cosine similarity for medline to medline:  0.04253294742509128\n",
      "Average cosine similarity for WSJ to WSJ:  0.042765676237362896\n",
      "Average cosine similarity for medline to WSJ:  0.007115179228025695\n"
     ]
    }
   ],
   "source": [
    "import math\n",
    "bow_collections={key:[make_bow(doc) for doc in collection] for key,collection in collections.items()}\n",
    "\n",
    "def doc_freq(doclist):\n",
    "    mylist = doclist.copy()\n",
    "    df={}\n",
    "    for doc in mylist:\n",
    "        for feat in doc.keys():\n",
    "            df[feat]=df.get(feat,0)+1        \n",
    "    return df\n",
    "\n",
    "def dot(docA,docB):\n",
    "    the_sum=0\n",
    "    for (key,value) in docA.items():\n",
    "        the_sum+=value*docB.get(key,0)\n",
    "    return the_sum\n",
    "\n",
    "def cos_sim(docA,docB):\n",
    "    sim=(dot(docA,docB)/(math.sqrt(dot(docA,docA)*dot(docB,docB))))\n",
    "    return sim\n",
    "\n",
    "def idf(doclist):\n",
    "    N=len(doclist)\n",
    "    return {feat:math.log(N/v) for feat,v in doc_freq(doclist).items()}\n",
    "\n",
    "#All definitions up to this point are sample answers supplied in lab solutions\n",
    "#They have been used as tools to create the proper answers required by the questions\n",
    "\n",
    "def tf_idf(doclist,doc_idf):\n",
    "    dock_tf_list = [] #A collection to hold the list of documents that have had tf-idf appllied to them\n",
    "    for doc in doclist: #Iterate through each document in document list\n",
    "        for (word,val) in doc.items(): #Working with each key:value pair, in the dictionary, iterate through the doc\n",
    "            doc[word] = val * (doc_idf[word]) #find the corisponding values, and apply the idf value, they already contain the tf val\n",
    "        dock_tf_list.append(doc) #Append the revised list to our collection\n",
    "    return dock_tf_list #Return list\n",
    "\n",
    "def avg_cos_sim(docList1,docList2): # Average Cosine Similarity, Each document will produce a cos_sim for each corrispoding doc\n",
    "    #With 50 documents in each list, we will have 2500 cos_similarities.\n",
    "    cos = list() #List to hold all 2500 cos_sim\n",
    "    for current_l1 in docList1: # Loop through each document in the first document list\n",
    "        for current_l2 in docList2: # Loop through each document in the second document list\n",
    "            cos.append(cos_sim(current_l1,current_l2)) #Using our functions to produce a cos_sim,\n",
    "            #This is with a vector method\n",
    "            #\n",
    "            # Doc1: (Word_1: 'a_1',   Doc1: (Word_1: 'b_1',\n",
    "            #        Word_2: 'a_2'           Word_2: 'b_2'\n",
    "            #        Word_3: 'a_3'           Word_3: 'b_3'\n",
    "            #        )                       )\n",
    "            #\n",
    "            # Each doc can be seen as a vector\n",
    "            #\n",
    "    return statistics.mean(cos) #The mean total for the list values is returned\n",
    "\n",
    "medline_tf_idf = tf_idf(bow_collections['medline'],idf(bow_collections['medline']))\n",
    "wsj_tf_idf = tf_idf(bow_collections['wsj'],idf((bow_collections['wsj'])))\n",
    "\n",
    "print(\"Average cosine similarity for medline to medline: \",avg_cos_sim((medline_tf_idf),(medline_tf_idf)))\n",
    "print(\"Average cosine similarity for WSJ to WSJ: \",avg_cos_sim((wsj_tf_idf),(wsj_tf_idf)))\n",
    "print(\"Average cosine similarity for medline to WSJ: \",avg_cos_sim((medline_tf_idf),(wsj_tf_idf)))\n"
   ]
  },
  {
   "cell_type": "markdown",
   "metadata": {},
   "source": [
    "The cosine similarity when looking at both values compared against each other is shown to be approx. 4% for each one. The average cosine similarity when you compare Medline to WSJ is even lower at 0.7%. These scores are quite low but we must keep into account this is the sum mean of over 2500 comparisons."
   ]
  },
  {
   "cell_type": "markdown",
   "metadata": {},
   "source": [
    "c). Expand the document representations by adding **synonyms** and **hypernyms** for each **noun** in the document.  For example, 2 occurrences of the word *tiger* should add 2 occurrences of each of the following **lemma_names** found in the WordNet hypernym hierarchy above *tiger*:\n",
    "* \\['tiger', 'Panthera_tigris'\\]\n",
    "* \\['big_cat', 'cat'\\]\n",
    "* \\['feline', 'felid'\\]\n",
    "* \\['carnivore'\\]\n",
    "* \\['placental', 'placental_mammal', 'eutherian', 'eutherian_mammal'\\]\n",
    "* \\['mammal', 'mammalian'\\]\n",
    "* \\['vertebrate', 'craniate'\\]\n",
    "* \\['chordate'\\]\n",
    "* \\['animal', 'animate_being', 'beast', 'brute', 'creature', 'fauna'\\]\n",
    "* \\['organism', 'being'\\]\n",
    "* \\['living_thing', 'animate_thing'\\]\n",
    "* \\['whole', 'unit'\\]\n",
    "* \\['object', 'physical_object'\\]\n",
    "* \\['physical_entity'\\]\n",
    "* \\['entity'\\]\n",
    "\n",
    "Recompute the similarities calculated in part b).  Discuss your results. \\[9 marks\\]"
   ]
  },
  {
   "cell_type": "code",
   "execution_count": 581,
   "metadata": {},
   "outputs": [
    {
     "name": "stdout",
     "output_type": "stream",
     "text": [
      "Average cosine similarity for medline to medline:  0.10513230741686302\n",
      "Average cosine similarity for WSJ to WSJ:  0.10102519799711758\n",
      "Average cosine similarity for medline to WSJ:  0.05735666821782966\n"
     ]
    }
   ],
   "source": [
    "from nltk.corpus import wordnet\n",
    "bow_collections={key:[make_bow(doc) for doc in collection] for key,collection in collections.items()}\n",
    "nouns = {x.name().split('.', 1)[0] for x in wordnet.all_synsets('n')} #From an online resource, creates a dictionary of all wordnet nouns\n",
    "\n",
    "def distance_to_root(asynset, MYLIST):\n",
    "    \"\"\"\n",
    "    Produce the full list of hypernyms with a recursion call\n",
    "    :param asynset: A synset which is of the form ('someword.x.01'), where x is the value indicating the type of word, number showing how many of this type has these senses.\n",
    "    :param MYLIST: A list of all current words that are prodcuded by this recursive function\n",
    "    :return: 0 indicating we are at the end of the hierarchy for one tree, or another call to continute populating the list MYLIST\n",
    "    \"\"\"\n",
    "    hypernyms=asynset.hypernyms() #Assign set of all hypernyms\n",
    "    for each_hyp in hypernyms: # Iterate of every synset in hpyernyms\n",
    "        MYLIST.append(each_hyp.lemma_names()) #Add all hypername lemma names to our list collections\n",
    "    if len(hypernyms)==0: \n",
    "        return 0\n",
    "    else:\n",
    "        return (distance_to_root(hypernyms[0], MYLIST)+1)\n",
    "\n",
    "def addHyps(documentList, MYLIST):\n",
    "    \"\"\"\n",
    "    Add all the hypernyms for each noun in a document in the given documentList,\n",
    "    :param documentList: A list of all documents that are being affected\n",
    "    :param MYLIST: A list of all current words that are prodcuded by this recursive function\n",
    "    :return: current_doc_list which is the list of all documents that have been updated\n",
    "    \"\"\"\n",
    "    current_doc_list = [] # Declare the new list\n",
    "    for document in documentList: # Iterate through each document in the document list\n",
    "        current_doc = document.copy() # Make a copy of the current document to amend\n",
    "        for (word,val) in document.items(): # For each key and val pair in the document\n",
    "            if word in nouns: #Check if the word we have found is a noun\n",
    "                for each_set in wordnet.synsets(word): #If YES, for itearte through the noun synonyms adding them\n",
    "                    distance_to_root(each_set, MYLIST) #Call the function to append items to the list\n",
    "                    for eachlist in MYLIST: #Iterate through the list of hypernym list\n",
    "                        for each_hyp in eachlist: # Iterate through each word in the hpyernym list\n",
    "                            current_doc[each_hyp] = current_doc.get(each_hyp,0) + val \n",
    "                            #The value at the selected hypernym will be the existing value plus the document freq of the wordhence why val is added\n",
    "                    MYLIST = [] # Refresh the list to be used for the next noun\n",
    "        current_doc_list.append(current_doc) #Add the amened doc to our list \n",
    "    return current_doc_list #Return the new document list of amended documents\n",
    "\n",
    "\n",
    "medline_col = addHyps(bow_collections['medline'], MYLIST)\n",
    "wsj_col = addHyps(bow_collections['wsj'], MYLIST)\n",
    "\n",
    "medline_tf_idf = tf_idf(medline_col,idf(medline_col))\n",
    "wsj_tf_idf = tf_idf(wsj_col,idf((wsj_col)))\n",
    "\n",
    "print(\"Average cosine similarity for medline to medline: \",average_cos_sim((medline_tf_idf),(medline_tf_idf)))\n",
    "print(\"Average cosine similarity for WSJ to WSJ: \",average_cos_sim((wsj_tf_idf),(wsj_tf_idf)))\n",
    "print(\"Average cosine similarity for medline to WSJ: \",average_cos_sim((medline_tf_idf),(wsj_tf_idf)))\n"
   ]
  },
  {
   "cell_type": "markdown",
   "metadata": {},
   "source": [
    "Comparing the average cosine similarity across the board, for each result we can see that it has increased. This was predicted as by adding the hypernym tree of each noun we can now allow the documents to more broadly see how they are classified. Thus when comparing the Medline documents to each other, they have a new similarity of 10%. With a similar result for the wsj to wsj.\n",
    "\n",
    "The similarity for the Medline to wsj has also increased as when making both data sets more general, there are more cases for the documents to be similar on leading to a better cosine similarity.\n"
   ]
  },
  {
   "cell_type": "markdown",
   "metadata": {},
   "source": [
    "## Question 4: Supervised Methods for WSD (25 marks)\n",
    "The objective of this question is to build and evaluate a word sense disambiguation (WSD) system for words with multiple senses.  "
   ]
  },
  {
   "cell_type": "markdown",
   "metadata": {},
   "source": [
    "a).  For each word occurring in the medline corpus (defined above), **write code** to find how many senses it has according to WordNet.  Print a list of the 10 most frequently occurring words with 2 senses (in this corpus). \\[4 marks\\]"
   ]
  },
  {
   "cell_type": "code",
   "execution_count": 584,
   "metadata": {},
   "outputs": [
    {
     "data": {
      "text/plain": [
       "[['membrane', 10],\n",
       " ['temperature', 7],\n",
       " ['molecular', 7],\n",
       " ['uptake', 6],\n",
       " ['data', 6],\n",
       " ['molecule', 6],\n",
       " ['may', 5],\n",
       " ['amino', 5],\n",
       " ['phenomenon', 5],\n",
       " ['ratio', 4]]"
      ]
     },
     "metadata": {},
     "output_type": "display_data"
    }
   ],
   "source": [
    "from nltk.corpus import wordnet as wn\n",
    "two_sense_vals = []\n",
    "def takeSecond(elem):\n",
    "    return elem[1]\n",
    "for (key,val) in doc_freq(bow_collections['medline']).items():\n",
    "    if len(wn.synsets(key)) == 2:\n",
    "        c_val = [key,val]\n",
    "        two_sense_vals.append(c_val)\n",
    "two_sense_vals.sort(key=takeSecond,reverse=True)\n",
    "display(two_sense_vals[:10])"
   ]
  },
  {
   "cell_type": "markdown",
   "metadata": {},
   "source": [
    "A simple looping structure which first loops through each value in doc freq of the medline corpus, this already holds the info of all the words and how many times they appear. The words with only two senses are found and then we sort the remaining list by the value."
   ]
  },
  {
   "cell_type": "markdown",
   "metadata": {},
   "source": [
    "b). A *supervised* WSD algorithm derives model(s) from *sense-annotated corpus data* in order to predict senses of ambiguous words in un-annotated data.  Using the entire document as context, **implement** a supervised word sense disambiguation algorithm to determine the most likely sense of each occurrence of the 3 most frequently occuring words identified in part a). \\[8 marks\\]"
   ]
  },
  {
   "cell_type": "code",
   "execution_count": 546,
   "metadata": {
    "scrolled": false
   },
   "outputs": [
    {
     "data": {
      "text/plain": [
       "[('a thin pliable sheet of material', 3.95168669050248),\n",
       " ('a thin pliable sheet of material', 7.429698079698079),\n",
       " ('a thin pliable sheet of material', 4.754265179265181),\n",
       " ('a thin pliable sheet of material', 3.336627261627262),\n",
       " ('a thin pliable sheet of material', 4.901067396655632),\n",
       " ('a thin pliable sheet of material', 3.6527236652236654),\n",
       " ('a thin pliable sheet of material', 6.236573149073147),\n",
       " ('a thin pliable sheet of material', 6.82847152847153),\n",
       " ('a thin pliable sheet of material', 6.458774558774557),\n",
       " ('a thin pliable sheet of material', 6.414791580968051)]"
      ]
     },
     "metadata": {},
     "output_type": "display_data"
    },
    {
     "data": {
      "text/plain": [
       "[('the degree of hotness or coldness of a body or environment (corresponding to its molecular activity)',\n",
       "  3.5035464535464547),\n",
       " ('the degree of hotness or coldness of a body or environment (corresponding to its molecular activity)',\n",
       "  4.736392773892774),\n",
       " ('the degree of hotness or coldness of a body or environment (corresponding to its molecular activity)',\n",
       "  2.5900294150294156),\n",
       " ('the degree of hotness or coldness of a body or environment (corresponding to its molecular activity)',\n",
       "  9.555144855144855),\n",
       " ('the degree of hotness or coldness of a body or environment (corresponding to its molecular activity)',\n",
       "  8.085050080638316),\n",
       " ('the degree of hotness or coldness of a body or environment (corresponding to its molecular activity)',\n",
       "  7.836194361194361),\n",
       " ('the degree of hotness or coldness of a body or environment (corresponding to its molecular activity)',\n",
       "  4.828210678210679)]"
      ]
     },
     "metadata": {},
     "output_type": "display_data"
    },
    {
     "data": {
      "text/plain": [
       "[('Pos type was not valid', 0),\n",
       " ('Pos type was not valid', 0),\n",
       " ('Pos type was not valid', 0),\n",
       " ('Pos type was not valid', 0),\n",
       " ('Pos type was not valid', 0),\n",
       " ('Pos type was not valid', 0),\n",
       " ('Pos type was not valid', 0)]"
      ]
     },
     "metadata": {},
     "output_type": "display_data"
    }
   ],
   "source": [
    "import operator \n",
    "mdl = (bow_collections['medline'])\n",
    "\n",
    "def max_sim(word,contextlemmas,pos=wn.NOUN):\n",
    "    synsets=wn.synsets(word,pos)\n",
    "    scores=[]\n",
    "    for synset in synsets:\n",
    "        total=0\n",
    "        for lemma in contextlemmas:\n",
    "            sofar=0\n",
    "            for synsetB in wn.synsets(lemma,pos):\n",
    "                if not pos == wn.NOUN:\n",
    "                    sofar = 0\n",
    "                else:\n",
    "                    sim=wn.path_similarity(synset,synsetB)\n",
    "                    if sim>sofar:\n",
    "                        sofar=sim\n",
    "            total+=sofar\n",
    "        if pos == wn.NOUN:\n",
    "            scores.append((synset.definition(),total))\n",
    "        else:\n",
    "            scores.append((\"Pos type was not valid\",total))\n",
    "    sortedscores=sorted(scores,key=operator.itemgetter(1),reverse=True) \n",
    "    #print(sortedscores)\n",
    "    if sortedscores == None:\n",
    "        print(\"test\")\n",
    "    return sortedscores[0]\n",
    "\n",
    "#Max_Sim is a function taken from the solutions to the lab exercises\n",
    "\n",
    "def create_sense_annotated_data(documents, pos=wn.NOUN): #Creates a list that can be worked with by our WSD\n",
    "    text_docs = []# Set up list for our strings\n",
    "    for doc in documents: #Iterate through each document in documents \n",
    "        my_string = \"\" # New String set up\n",
    "        for (word,val) in doc.items(): #Take each word in the doc and add it to a string followed by a whitespace char\n",
    "            my_string += word\n",
    "            my_string += \" \"\n",
    "        text_docs.append(my_string) #Append each string to our list\n",
    "    return text_doc \n",
    "\n",
    "def wsd(word, documents, pos=wn.NOUN):\n",
    "    max_sim_result = []\n",
    "    for doc in documents:\n",
    "        if word in doc:\n",
    "            max_sim_result.append(max_sim(word,doc,pos)) # Create a list of all the wsd results\n",
    "    return max_sim_result\n",
    "\n",
    "display(wsd('membrane',mdl))\n",
    "display(wsd('temperature',mdl))\n",
    "display(wsd('molecular',mdl,wn.ADJ))"
   ]
  },
  {
   "cell_type": "markdown",
   "metadata": {},
   "source": [
    "c). Evaluate the performance of your WSD system.  How accurate is it for each of the 3 words? **Comment** on the strengths and weaknesses of your WSD system.\\[8 marks\\] "
   ]
  },
  {
   "cell_type": "markdown",
   "metadata": {},
   "source": [
    "The performance of the WSD system is quite poor. We have used a method which requires the pos data type to be set to a value that entails that the only words that can be found to be nouns, and no other of any other type as this will return an error. As for words that it can produce a sense for. It has chosen the exact same sense for every single instance of the word found in the document, the value it return shows how this score is the highest from the others. "
   ]
  },
  {
   "cell_type": "markdown",
   "metadata": {},
   "source": [
    "d) How could you extend or improve your WSD system?  You are **not** expected to code any of these extensions or improvements, but your answer should give sufficient details to make it clear how they might be carried out in practice. \\[5 marks\\]"
   ]
  },
  {
   "cell_type": "markdown",
   "metadata": {},
   "source": [
    "The first step to improve our wsd system is to change the document type we are giving it. The list contains a document which is generated from the bow collections of our corpus reader. This will help give the document significant meaning in terms of working with word distributions in relation to question 3, however a wsd is sensitive on the data we give it. In our part a we create a loop which translates the data structure into a string which can be used by our wsd. \n",
    "\n",
    "The wsd needs a string as the concept of wsd is built on how words are used in conjunction with other words. We get the meaning for words based upon the surrounding words so grammar and order is important. To improve our wsd in a huge way, we could feed it a ordered data, which while still reduced retains elements that identify the grammar of the sentence. Having these two elements will help immensely find the right word sense for a given word as we can see how they fit in with the surrounding words properly now rather than just comparing if they are in the same category as we do in part a.\n"
   ]
  },
  {
   "cell_type": "markdown",
   "metadata": {},
   "source": [
    "Use the code below to verify that the length of your submission does not exceed 3000 words."
   ]
  },
  {
   "cell_type": "code",
   "execution_count": 583,
   "metadata": {},
   "outputs": [
    {
     "name": "stdout",
     "output_type": "stream",
     "text": [
      "Submission length is 2623\n"
     ]
    }
   ],
   "source": [
    "##This code will word count all of the markdown cells in the notebook saved at filepath\n",
    "##Running it before providing any answers shows that the questions have a word count of 1202\n",
    "\n",
    "import io\n",
    "from nbformat import current\n",
    "\n",
    "filepath=\"a1.ipynb\"\n",
    "question_count=1202\n",
    "\n",
    "with io.open(filepath, 'r', encoding='utf-8') as f:\n",
    "    nb = current.read(f, 'json')\n",
    "\n",
    "word_count = 0\n",
    "for cell in nb.worksheets[0].cells:\n",
    "    if cell.cell_type == \"markdown\":\n",
    "        word_count += len(cell['source'].replace('#', '').lstrip().split(' '))\n",
    "print(\"Submission length is {}\".format(word_count-question_count))"
   ]
  }
 ],
 "metadata": {
  "kernelspec": {
   "display_name": "Python 3",
   "language": "python",
   "name": "python3"
  },
  "language_info": {
   "codemirror_mode": {
    "name": "ipython",
    "version": 3
   },
   "file_extension": ".py",
   "mimetype": "text/x-python",
   "name": "python",
   "nbconvert_exporter": "python",
   "pygments_lexer": "ipython3",
   "version": "3.6.4"
  }
 },
 "nbformat": 4,
 "nbformat_minor": 2
}
